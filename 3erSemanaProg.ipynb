{
  "nbformat": 4,
  "nbformat_minor": 0,
  "metadata": {
    "colab": {
      "name": "3erSemanaProg.ipynb",
      "provenance": [],
      "collapsed_sections": [],
      "authorship_tag": "ABX9TyPx7eLdpwGZxqhYfyBJKeba",
      "include_colab_link": true
    },
    "kernelspec": {
      "name": "python3",
      "display_name": "Python 3"
    },
    "language_info": {
      "name": "python"
    }
  },
  "cells": [
    {
      "cell_type": "markdown",
      "metadata": {
        "id": "view-in-github",
        "colab_type": "text"
      },
      "source": [
        "<a href=\"https://colab.research.google.com/github/krla2022/3erSemanaProg/blob/main/3erSemanaProg.ipynb\" target=\"_parent\"><img src=\"https://colab.research.google.com/assets/colab-badge.svg\" alt=\"Open In Colab\"/></a>"
      ]
    },
    {
      "cell_type": "markdown",
      "source": [
        "Ejercicio 2.1.\n",
        "Escribir un programa que le pregunte al usuario una cantidad de pesos, una tasa de interés y un número de años y muestre como resultado el monto final a obtener. La fórmula a utilizar es: Cn = C * (1 + x/100) ^ n\n",
        "\n",
        "Donde C es el capital inicial, x es la tasa de interés y n es el número de años a calcular."
      ],
      "metadata": {
        "id": "GmUspTZmfZAi"
      }
    },
    {
      "cell_type": "code",
      "source": [
        "def Cn (c,x,n):\n",
        "    return c * (1 + x / 100) ** n\n",
        "\n",
        "leyendo = True\n",
        "while leyendo:\n",
        "    try:\n",
        "        c = float(input (\"Introduce el capital: \"))\n",
        "        n = float(input (\"Introduce los años  : \"))\n",
        "        x = float(input (\"Introduce el interés: \"))\n",
        "        leyendo = False\n",
        "    except:\n",
        "        print(\"Error en la introducción de datos\\n\")\n",
        "   \n",
        "print(\"Total a pagar: \", Cn(c,x,n), \"Pesos\")"
      ],
      "metadata": {
        "colab": {
          "base_uri": "https://localhost:8080/"
        },
        "id": "-yWqioiQotxX",
        "outputId": "70dff67b-5d02-400f-af5e-423498f56a46"
      },
      "execution_count": null,
      "outputs": [
        {
          "output_type": "stream",
          "name": "stdout",
          "text": [
            "Introduce el capital: 20000\n",
            "Introduce los años  : 36\n",
            "Introduce el interés: 40\n",
            "Total a pagar:  3644511123.4437127 Pesos\n"
          ]
        }
      ]
    },
    {
      "cell_type": "code",
      "source": [
        "def fahrenheitToCelsius(c):\n",
        "    return 9/5 * c + 32\n",
        "\n",
        "leyendo = True\n",
        "while leyendo:\n",
        "    try:\n",
        "        c = float(input(\"Introduzca temperatura en grados Celsius: \"))\n",
        "        leyendo = False\n",
        "    except:\n",
        "        print(\"Introduzca un valor numérico\\n\")\n",
        "\n",
        "print (\"La temperatura equivalente en grados Fahrenheit es :\", fahrenheitToCelsius(c))"
      ],
      "metadata": {
        "colab": {
          "base_uri": "https://localhost:8080/"
        },
        "id": "0CLCjHOks1M4",
        "outputId": "5b34ad01-2918-4ecd-fb96-4d29afd9c84f"
      },
      "execution_count": null,
      "outputs": [
        {
          "output_type": "stream",
          "name": "stdout",
          "text": [
            "Introduzca temperatura en grados Celsius: 100\n",
            "La temperatura equivalente en grados Fahrenheit es : 212.0\n"
          ]
        }
      ]
    },
    {
      "cell_type": "code",
      "source": [
        "from typing import Counter\n",
        "nombre = input(\"¿Cómo te llamas? \")\n",
        "nombre_upper= nombre.upper()\n",
        "contar= len(nombre)\n",
        "print(nombre_upper)\n",
        "print(\"Número de Caracteres: \", contar)"
      ],
      "metadata": {
        "colab": {
          "base_uri": "https://localhost:8080/"
        },
        "id": "FO-mxu7XtRbR",
        "outputId": "27502723-3bba-41e7-9398-a0076b5e477a"
      },
      "execution_count": null,
      "outputs": [
        {
          "output_type": "stream",
          "name": "stdout",
          "text": [
            "¿Cómo te llamas? carla\n",
            "CARLA\n",
            "Número de Caracteres:  5\n"
          ]
        }
      ]
    },
    {
      "cell_type": "code",
      "source": [
        "Edad= int(input(\"Cual es tu edad \"))\n",
        "Ingresos= float(input(\"Ingresos \"))\n",
        "if edad > 18 and Ingresos >= 1000:\n",
        "   print(\"Debes tributar\")\n",
        "else:\n",
        "     print(\"No debes Tributar\")"
      ],
      "metadata": {
        "colab": {
          "base_uri": "https://localhost:8080/"
        },
        "id": "1FdqqZuz33az",
        "outputId": "12e38aa7-222d-45bd-c821-510ef9f59157"
      },
      "execution_count": null,
      "outputs": [
        {
          "output_type": "stream",
          "name": "stdout",
          "text": [
            "Cual es tu edad 18\n",
            "Ingresos 900\n",
            "No debes Tributar\n"
          ]
        }
      ]
    },
    {
      "cell_type": "code",
      "source": [
        "Edad= int(input(\"Cual es tu edad \"))\n",
        "if edad > 18:\n",
        " print(\"Eres mayor de edad\")\n",
        "else:\n",
        " print(\"Eres menor de edad\")"
      ],
      "metadata": {
        "colab": {
          "base_uri": "https://localhost:8080/"
        },
        "id": "Raw9nqeRyYzr",
        "outputId": "74bc70bf-07f5-4f45-ff77-c6d8df4e4550"
      },
      "execution_count": null,
      "outputs": [
        {
          "output_type": "stream",
          "name": "stdout",
          "text": [
            "Cual es tu edad 5\n",
            "Eres mayor de edad\n"
          ]
        }
      ]
    },
    {
      "cell_type": "code",
      "source": [
        "Nombre= input(\"Cual es tu Nombre \")\n",
        "Genero= input(\"Cual es Tu Sexo [F] o [M] \")\n",
        "if Genero == \"F\":\n",
        "  if Nombre.lower() < \"m\":\n",
        "    Grupo = \"A\"\n",
        "  else:\n",
        "    Grupo =\"B\"\n",
        "else:\n",
        "    if Nombre.lower() > \"n\":\n",
        "        Grupo = \"A\"\n",
        "    else:\n",
        "        Grupo = \"B\"\n",
        "print(\"Tu grupo es \" + Grupo)\n"
      ],
      "metadata": {
        "colab": {
          "base_uri": "https://localhost:8080/"
        },
        "id": "N3Gr6j7H7LTU",
        "outputId": "4351260f-37e2-4e39-af46-d5a46e14a603"
      },
      "execution_count": null,
      "outputs": [
        {
          "output_type": "stream",
          "name": "stdout",
          "text": [
            "Cual es tu Nombre Florencia\n",
            "Cual es Tu Sexo [F] o [M] F\n",
            "Tu grupo es A\n"
          ]
        }
      ]
    },
    {
      "cell_type": "code",
      "source": [
        " num1= int(input(\"Numero: \"))\n",
        " num2= int(input(\"Numero: \"))\n",
        " list1 = [num1, num2]\n",
        "  \n",
        "for num in list1:\n",
        "      \n",
        "    \n",
        "    if num % 2 == 0:\n",
        "       print(num, end = \" \")"
      ],
      "metadata": {
        "colab": {
          "base_uri": "https://localhost:8080/"
        },
        "id": "_bHI_mtPOs1B",
        "outputId": "e1ef7786-bc6d-43fd-8984-6d4e6efc32f3"
      },
      "execution_count": null,
      "outputs": [
        {
          "output_type": "stream",
          "name": "stdout",
          "text": [
            "Numero: 33\n",
            "Numero: 22\n",
            "22 "
          ]
        }
      ]
    },
    {
      "cell_type": "code",
      "source": [
        "n= int(input(\"Escribe un número positivo: \"))\n",
        "for i in range(1, n+1, 2):\n",
        "  print(i, end= \",\")"
      ],
      "metadata": {
        "colab": {
          "base_uri": "https://localhost:8080/"
        },
        "id": "pfit6xg_WdCr",
        "outputId": "02194dd8-aea3-4cef-dc53-75b109e6dedd"
      },
      "execution_count": null,
      "outputs": [
        {
          "output_type": "stream",
          "name": "stdout",
          "text": [
            "Escribe un número positivo: 20\n",
            "1,3,5,7,9,11,13,15,17,19,"
          ]
        }
      ]
    },
    {
      "cell_type": "code",
      "source": [
        "l = 10\n",
        "u = 20\n",
        "  \n",
        "for num in range(l, u + 1): \n",
        "    print(num) \n",
        "    "
      ],
      "metadata": {
        "colab": {
          "base_uri": "https://localhost:8080/"
        },
        "id": "J7s-BiICZehU",
        "outputId": "5bba3316-e7be-45b0-8b8f-350957e7a84d"
      },
      "execution_count": null,
      "outputs": [
        {
          "output_type": "stream",
          "name": "stdout",
          "text": [
            "10\n",
            "11\n",
            "12\n",
            "13\n",
            "14\n",
            "15\n",
            "16\n",
            "17\n",
            "18\n",
            "19\n",
            "20\n"
          ]
        }
      ]
    },
    {
      "cell_type": "code",
      "source": [
        "Amig1= input(\"Nombre mejor amigo: \")\n",
        "Amig2= input(\"Nombre mejor amigo: \")\n",
        "Amig3= input(\"Nombre mejor amigo: \")\n",
        "Amig4= input(\"Nombre mejor amigo: \")\n",
        "Amig5= input(\"Nombre mejor amigo: \")\n",
        "print(\"Hola \" + Amig1)\n",
        "print(\"Hola \" + Amig2)\n",
        "print(\"Hola \" + Amig3)\n",
        "print(\"Hola \" + Amig4)\n",
        "print(\"Hola \" + Amig5)\n"
      ],
      "metadata": {
        "colab": {
          "base_uri": "https://localhost:8080/"
        },
        "id": "ZxNXXRQDafZN",
        "outputId": "1f1cc674-9148-49fc-8871-05d3f018daa6"
      },
      "execution_count": null,
      "outputs": [
        {
          "output_type": "stream",
          "name": "stdout",
          "text": [
            "Nombre mejor amigo: juan\n",
            "Nombre mejor amigo: lolo\n",
            "Nombre mejor amigo: pepe\n",
            "Nombre mejor amigo: tutu\n",
            "Nombre mejor amigo: riro\n",
            "Hola juan\n",
            "Hola lolo\n",
            "Hola pepe\n",
            "Hola tutu\n",
            "Hola riro\n"
          ]
        }
      ]
    },
    {
      "cell_type": "markdown",
      "source": [
        "3- Escribir un programa que use un ciclo definido con rango numérico, que pregunte los nombres de sus cinco mejores amigos/as, y los salude."
      ],
      "metadata": {
        "id": "tgLSPowEjBxX"
      }
    },
    {
      "cell_type": "code",
      "source": [
        ""
      ],
      "metadata": {
        "id": "qWcgDRlujJzX"
      },
      "execution_count": null,
      "outputs": []
    }
  ]
}