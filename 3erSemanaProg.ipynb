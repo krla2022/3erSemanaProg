{
  "nbformat": 4,
  "nbformat_minor": 0,
  "metadata": {
    "colab": {
      "name": "3erSemanaProg.ipynb",
      "provenance": [],
      "collapsed_sections": [],
      "authorship_tag": "ABX9TyPUqgkKNZ1omvCdHAlIOF00",
      "include_colab_link": true
    },
    "kernelspec": {
      "name": "python3",
      "display_name": "Python 3"
    },
    "language_info": {
      "name": "python"
    }
  },
  "cells": [
    {
      "cell_type": "markdown",
      "metadata": {
        "id": "view-in-github",
        "colab_type": "text"
      },
      "source": [
        "<a href=\"https://colab.research.google.com/github/krla2022/3erSemanaProg/blob/main/3erSemanaProg.ipynb\" target=\"_parent\"><img src=\"https://colab.research.google.com/assets/colab-badge.svg\" alt=\"Open In Colab\"/></a>"
      ]
    },
    {
      "cell_type": "markdown",
      "source": [
        "Ejercicio 2.1.\n",
        "Escribir un programa que le pregunte al usuario una cantidad de pesos, una tasa de interés y un número de años y muestre como resultado el monto final a obtener. La fórmula a utilizar es: Cn = C * (1 + x/100) ^ n\n",
        "\n",
        "Donde C es el capital inicial, x es la tasa de interés y n es el número de años a calcular."
      ],
      "metadata": {
        "id": "GmUspTZmfZAi"
      }
    },
    {
      "cell_type": "code",
      "source": [
        "cantidad= float(input(\"Ingrese la cantidad de Pesos: \"))\n",
        "tasa= float(input(\"Ingrese la Tasa de Interes: \"))\n",
        "años= float(input(\"Ingrese la cantidad de años: \"))\n",
        "\n",
        "Cn = cantidad * (1 + tasa/100) * años\n",
        "\n",
        "print('El monto final a obtener es ' + str(Cn))"
      ],
      "metadata": {
        "colab": {
          "base_uri": "https://localhost:8080/"
        },
        "id": "-yWqioiQotxX",
        "outputId": "003e0433-cc41-488f-ea5d-f64da270fad0"
      },
      "execution_count": 1,
      "outputs": [
        {
          "output_type": "stream",
          "name": "stdout",
          "text": [
            "Ingrese la cantidad de Pesos: 2000\n",
            "Ingrese la Tasa de Interes: 52\n",
            "Ingrese la cantidad de años: 12\n",
            "El monto final a obtener es 36480.0\n"
          ]
        }
      ]
    },
    {
      "cell_type": "code",
      "source": [
        "grados = float(input(\"Introduzca temperatura en grados Fahrenheit: \"))\n",
        "grados_celsius = (grados - 32) * 5/9\n",
        "print('Los grados Celcius son ' + str(grados_celsius))\n"
      ],
      "metadata": {
        "colab": {
          "base_uri": "https://localhost:8080/"
        },
        "id": "0CLCjHOks1M4",
        "outputId": "0286dea4-7c8f-4399-a925-a8e784982c91"
      },
      "execution_count": 3,
      "outputs": [
        {
          "output_type": "stream",
          "name": "stdout",
          "text": [
            "Introduzca temperatura en grados Fahrenheit: 25\n",
            "Los grados Celcius son -3.888888888888889\n"
          ]
        }
      ]
    },
    {
      "cell_type": "code",
      "source": [
        "from typing import Counter\n",
        "nombre = input(\"¿Cómo te llamas? \")\n",
        "nombre_upper= nombre.upper()\n",
        "contar= len(nombre)\n",
        "print(nombre_upper)\n",
        "print(\"Número de Caracteres: \", contar)"
      ],
      "metadata": {
        "colab": {
          "base_uri": "https://localhost:8080/"
        },
        "id": "FO-mxu7XtRbR",
        "outputId": "27502723-3bba-41e7-9398-a0076b5e477a"
      },
      "execution_count": null,
      "outputs": [
        {
          "output_type": "stream",
          "name": "stdout",
          "text": [
            "¿Cómo te llamas? carla\n",
            "CARLA\n",
            "Número de Caracteres:  5\n"
          ]
        }
      ]
    },
    {
      "cell_type": "code",
      "source": [
        "Edad= int(input(\"Cual es tu edad \"))\n",
        "Ingresos= float(input(\"Ingresos \"))\n",
        "if edad > 18 and Ingresos >= 1000:\n",
        "   print(\"Debes tributar\")\n",
        "else:\n",
        "     print(\"No debes Tributar\")"
      ],
      "metadata": {
        "colab": {
          "base_uri": "https://localhost:8080/"
        },
        "id": "1FdqqZuz33az",
        "outputId": "12e38aa7-222d-45bd-c821-510ef9f59157"
      },
      "execution_count": null,
      "outputs": [
        {
          "output_type": "stream",
          "name": "stdout",
          "text": [
            "Cual es tu edad 18\n",
            "Ingresos 900\n",
            "No debes Tributar\n"
          ]
        }
      ]
    },
    {
      "cell_type": "code",
      "source": [
        "Edad= int(input(\"Cual es tu edad \"))\n",
        "if edad > 18:\n",
        " print(\"Eres mayor de edad\")\n",
        "else:\n",
        " print(\"Eres menor de edad\")"
      ],
      "metadata": {
        "colab": {
          "base_uri": "https://localhost:8080/"
        },
        "id": "Raw9nqeRyYzr",
        "outputId": "74bc70bf-07f5-4f45-ff77-c6d8df4e4550"
      },
      "execution_count": null,
      "outputs": [
        {
          "output_type": "stream",
          "name": "stdout",
          "text": [
            "Cual es tu edad 5\n",
            "Eres mayor de edad\n"
          ]
        }
      ]
    },
    {
      "cell_type": "code",
      "source": [
        "Nombre= input(\"Cual es tu Nombre \")\n",
        "Genero= input(\"Cual es Tu Sexo [F] o [M] \")\n",
        "if Genero == \"F\":\n",
        "  if Nombre.lower() < \"m\":\n",
        "    Grupo = \"A\"\n",
        "  else:\n",
        "    Grupo =\"B\"\n",
        "else:\n",
        "    if Nombre.lower() > \"n\":\n",
        "        Grupo = \"A\"\n",
        "    else:\n",
        "        Grupo = \"B\"\n",
        "print(\"Tu grupo es \" + Grupo)\n"
      ],
      "metadata": {
        "colab": {
          "base_uri": "https://localhost:8080/"
        },
        "id": "N3Gr6j7H7LTU",
        "outputId": "4351260f-37e2-4e39-af46-d5a46e14a603"
      },
      "execution_count": null,
      "outputs": [
        {
          "output_type": "stream",
          "name": "stdout",
          "text": [
            "Cual es tu Nombre Florencia\n",
            "Cual es Tu Sexo [F] o [M] F\n",
            "Tu grupo es A\n"
          ]
        }
      ]
    },
    {
      "cell_type": "code",
      "source": [
        " num1= int(input(\"Numero: \"))\n",
        " num2= int(input(\"Numero: \"))\n",
        " list1 = [num1, num2]\n",
        "  \n",
        "for num in list1:\n",
        "      \n",
        "    \n",
        "    if num % 2 == 0:\n",
        "       print(num, end = \" \")"
      ],
      "metadata": {
        "colab": {
          "base_uri": "https://localhost:8080/"
        },
        "id": "_bHI_mtPOs1B",
        "outputId": "e1ef7786-bc6d-43fd-8984-6d4e6efc32f3"
      },
      "execution_count": null,
      "outputs": [
        {
          "output_type": "stream",
          "name": "stdout",
          "text": [
            "Numero: 33\n",
            "Numero: 22\n",
            "22 "
          ]
        }
      ]
    },
    {
      "cell_type": "code",
      "source": [
        "n= int(input(\"Escribe un número positivo: \"))\n",
        "for i in range(1, n+1, 2):\n",
        "  print(i, end= \",\")"
      ],
      "metadata": {
        "colab": {
          "base_uri": "https://localhost:8080/"
        },
        "id": "pfit6xg_WdCr",
        "outputId": "02194dd8-aea3-4cef-dc53-75b109e6dedd"
      },
      "execution_count": null,
      "outputs": [
        {
          "output_type": "stream",
          "name": "stdout",
          "text": [
            "Escribe un número positivo: 20\n",
            "1,3,5,7,9,11,13,15,17,19,"
          ]
        }
      ]
    },
    {
      "cell_type": "code",
      "source": [
        "l = 10\n",
        "u = 20\n",
        "  \n",
        "for num in range(l, u + 1): \n",
        "    print(num) \n",
        "    "
      ],
      "metadata": {
        "colab": {
          "base_uri": "https://localhost:8080/"
        },
        "id": "J7s-BiICZehU",
        "outputId": "5bba3316-e7be-45b0-8b8f-350957e7a84d"
      },
      "execution_count": null,
      "outputs": [
        {
          "output_type": "stream",
          "name": "stdout",
          "text": [
            "10\n",
            "11\n",
            "12\n",
            "13\n",
            "14\n",
            "15\n",
            "16\n",
            "17\n",
            "18\n",
            "19\n",
            "20\n"
          ]
        }
      ]
    },
    {
      "cell_type": "code",
      "source": [
        "amigos= ['Tuki','Flor','Mara','Vero','Dani']\n",
        "\n",
        "for i in range(0,5):\n",
        "    print('Hola ' + amigos[i] + ' como estas?')\n"
      ],
      "metadata": {
        "colab": {
          "base_uri": "https://localhost:8080/"
        },
        "id": "ZxNXXRQDafZN",
        "outputId": "64413e99-cc3d-4a60-aab7-17ec5c96da18"
      },
      "execution_count": 9,
      "outputs": [
        {
          "output_type": "stream",
          "name": "stdout",
          "text": [
            "Hola Tuki como estas?\n",
            "Hola Flor como estas?\n",
            "Hola Mara como estas?\n",
            "Hola Vero como estas?\n",
            "Hola Dani como estas?\n"
          ]
        }
      ]
    },
    {
      "cell_type": "markdown",
      "source": [
        "3- Escribir un programa que use un ciclo definido con rango numérico, que pregunte los nombres de sus cinco mejores amigos/as, y los salude."
      ],
      "metadata": {
        "id": "tgLSPowEjBxX"
      }
    },
    {
      "cell_type": "code",
      "source": [
        "for i in range(0,5):\n",
        "  amigos=input(\"Nombre de tu amigo: \")\n",
        "  print(\"Hola \" + amigos)"
      ],
      "metadata": {
        "colab": {
          "base_uri": "https://localhost:8080/"
        },
        "id": "Ed2dMoA8wkWR",
        "outputId": "2e033758-7424-42e3-e200-7457d3ff9553"
      },
      "execution_count": 5,
      "outputs": [
        {
          "output_type": "stream",
          "name": "stdout",
          "text": [
            "Nombre de tu amigo: Juan\n",
            "Hola Juan\n",
            "Nombre de tu amigo: Andres\n",
            "Hola Andres\n",
            "Nombre de tu amigo: Lila\n",
            "Hola Lila\n",
            "Nombre de tu amigo: Flor\n",
            "Hola Flor\n",
            "Nombre de tu amigo: Matias\n",
            "Hola Matias\n"
          ]
        }
      ]
    },
    {
      "cell_type": "markdown",
      "source": [
        "Escribir un programa que use un ciclo definido con rango numérico, que pregunte los nombres de sus seis mejores amigos/as, y los salude."
      ],
      "metadata": {
        "id": "e2HBqUb6Ei5F"
      }
    },
    {
      "cell_type": "code",
      "source": [
        "for i in range(0,6):\n",
        "  amigos=input(\"Nombre de tu amigo: \")\n",
        "  print(\"Hola \" + amigos)"
      ],
      "metadata": {
        "colab": {
          "base_uri": "https://localhost:8080/"
        },
        "id": "YBrVvyUCFQNd",
        "outputId": "1e324075-ca00-4189-85fd-ad286211726b"
      },
      "execution_count": 6,
      "outputs": [
        {
          "output_type": "stream",
          "name": "stdout",
          "text": [
            "Nombre de tu amigo: Juan\n",
            "Hola Juan\n",
            "Nombre de tu amigo: P\n",
            "Hola P\n",
            "Nombre de tu amigo: W\n",
            "Hola W\n",
            "Nombre de tu amigo: Q\n",
            "Hola Q\n",
            "Nombre de tu amigo: E\n",
            "Hola E\n",
            "Nombre de tu amigo: F\n",
            "Hola F\n"
          ]
        }
      ]
    },
    {
      "cell_type": "markdown",
      "source": [
        "Escribir un programa que use un ciclo definido con rango numérico, que averigue a cuántos amigos quieren saludar, les pregunte los nombres de esos amigos/as, y los salude.\n",
        "\n"
      ],
      "metadata": {
        "id": "uw1nZ7V9FeNF"
      }
    },
    {
      "cell_type": "code",
      "source": [
        "amigos= int(input(\"Cuantos amigos quieres saludar? \"))\n",
        "\n",
        "for i in range(0, amigos):\n",
        "  amigo= input(\"Ingresa nombre de tu amigo: \")\n",
        "  print(\"Hola \" + amigo)"
      ],
      "metadata": {
        "colab": {
          "base_uri": "https://localhost:8080/"
        },
        "id": "nUBw1wYsFhk9",
        "outputId": "47bc6e64-c83c-4782-bf76-4af6ed86c95f"
      },
      "execution_count": 8,
      "outputs": [
        {
          "output_type": "stream",
          "name": "stdout",
          "text": [
            "Cuantos amigos quieres saludar? 5\n",
            "Ingresa nombre de tu amigo: Juan\n",
            "Hola Juan\n",
            "Ingresa nombre de tu amigo: Pepe\n",
            "Hola Pepe\n",
            "Ingresa nombre de tu amigo: Tincho\n",
            "Hola Tincho\n",
            "Ingresa nombre de tu amigo: Pablo\n",
            "Hola Pablo\n",
            "Ingresa nombre de tu amigo: Ale\n",
            "Hola Ale\n"
          ]
        }
      ]
    }
  ]
}