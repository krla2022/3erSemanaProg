{
  "nbformat": 4,
  "nbformat_minor": 0,
  "metadata": {
    "colab": {
      "name": "3SemanaProgramacion.ipynb",
      "provenance": [],
      "collapsed_sections": [],
      "authorship_tag": "ABX9TyPSYfpH+UZCyJ3uBvQXYf5X",
      "include_colab_link": true
    },
    "kernelspec": {
      "name": "python3",
      "display_name": "Python 3"
    },
    "language_info": {
      "name": "python"
    }
  },
  "cells": [
    {
      "cell_type": "markdown",
      "metadata": {
        "id": "view-in-github",
        "colab_type": "text"
      },
      "source": [
        "<a href=\"https://colab.research.google.com/github/krla2022/3erSemanaProg/blob/main/3SemanaProgramacion.ipynb\" target=\"_parent\"><img src=\"https://colab.research.google.com/assets/colab-badge.svg\" alt=\"Open In Colab\"/></a>"
      ]
    },
    {
      "cell_type": "markdown",
      "source": [
        "Ejercicio 1¶\n",
        "Escribir un programa que muestre por pantalla la cadena ¡Hola Mundo!."
      ],
      "metadata": {
        "id": "gwiEbGchLLbR"
      }
    },
    {
      "cell_type": "code",
      "source": [
        "print(\"¡Hola Mundo!\")"
      ],
      "metadata": {
        "colab": {
          "base_uri": "https://localhost:8080/"
        },
        "id": "EYaArYk-LKEJ",
        "outputId": "3c7a53e9-8c25-4ca6-a788-9d64cdf5a21d"
      },
      "execution_count": 4,
      "outputs": [
        {
          "output_type": "stream",
          "name": "stdout",
          "text": [
            "¡Hola Mundo!\n"
          ]
        }
      ]
    },
    {
      "cell_type": "markdown",
      "source": [
        "Ejercicio 2\n",
        "Escribir un programa que almacene la cadena ¡Hola Mundo! en una variable y luego muestre por pantalla el contenido de la variable."
      ],
      "metadata": {
        "id": "6QNwVA_0LiPC"
      }
    },
    {
      "cell_type": "code",
      "source": [
        "Saludo=(\" ¡Hola Mundo!\")\n",
        "print(Saludo)"
      ],
      "metadata": {
        "colab": {
          "base_uri": "https://localhost:8080/"
        },
        "id": "Jj4JBYppLkd0",
        "outputId": "dff9d2ed-4597-446a-f84f-55fd2c547732"
      },
      "execution_count": 2,
      "outputs": [
        {
          "output_type": "stream",
          "name": "stdout",
          "text": [
            " ¡Hola Mundo!\n"
          ]
        }
      ]
    },
    {
      "cell_type": "markdown",
      "source": [
        "Ejercicio 3\n",
        "Escribir un programa que pregunte el nombre del usuario en la consola y después de que el usuario lo introduzca muestre por pantalla la cadena ¡Hola !, donde es el nombre que el usuario haya introducido."
      ],
      "metadata": {
        "id": "IXXc5dl5LvPh"
      }
    },
    {
      "cell_type": "code",
      "source": [
        "Nombre_User= input(\"¿Cual es tu usuario?: \")\n",
        "print(\"¡Hola \" + Nombre_User + \"!\")"
      ],
      "metadata": {
        "id": "WJW0_TweL1p7"
      },
      "execution_count": null,
      "outputs": []
    },
    {
      "cell_type": "markdown",
      "source": [
        "Ejercicio 4\n",
        "Escribir un programa que muestre por pantalla el resultado de la siguiente operación aritmética: 3 mas 2 dividido 2 por 5, todo al cuadrado.\n",
        "\n",
        "(3+22∗5)2"
      ],
      "metadata": {
        "id": "3cHyqwvuNMxS"
      }
    },
    {
      "cell_type": "code",
      "source": [
        "print((3 + 2) / (2 * 5) ** 2)"
      ],
      "metadata": {
        "id": "354fYGCFNPZY"
      },
      "execution_count": null,
      "outputs": []
    },
    {
      "cell_type": "markdown",
      "source": [
        "Ejercicio 5\n",
        "Escribir un programa que pregunte al usuario por el número de horas trabajadas y el coste por hora. Después debe mostrar por pantalla la paga que le corresponde."
      ],
      "metadata": {
        "id": "YzkD1nHbPC43"
      }
    },
    {
      "cell_type": "code",
      "source": [
        "hs = float(input(\"Introduce tus horas trabajadas: \"))\n",
        "coste = float(input(\"Introduce costo por hora: \"))\n",
        "paga = hs * coste\n",
        "print(\"Tu paga es\", paga)"
      ],
      "metadata": {
        "id": "47c0JnSNT1PF",
        "colab": {
          "base_uri": "https://localhost:8080/"
        },
        "outputId": "777b5abe-018d-490c-ff9e-44fe735d71c8"
      },
      "execution_count": 3,
      "outputs": [
        {
          "output_type": "stream",
          "name": "stdout",
          "text": [
            "Introduce tus horas trabajadas: 500\n",
            "Introduce costo por hora: 20\n",
            "Tu paga es 10000.0\n"
          ]
        }
      ]
    },
    {
      "cell_type": "markdown",
      "source": [
        "Ejercicio 6\n",
        "Escribir un programa que lea un entero positivo, n, introducido por el usuario y después muestre en pantalla la suma de todos los enteros desde 1 hasta n. La suma de los primeros enteros positivos puede ser calculada de la siguiente forma:suma=n∗(n+1)/2"
      ],
      "metadata": {
        "id": "6IDi6rSQUlXl"
      }
    },
    {
      "cell_type": "code",
      "source": [
        "n= int(input(\"Introduce un numero entero: \"))\n",
        "s= n * (n + 1) / 2\n",
        "print(\"La suma de todos los numeros enteros desde 1 hasta \" + str(n ) + \" es \" + str(s))"
      ],
      "metadata": {
        "colab": {
          "base_uri": "https://localhost:8080/"
        },
        "id": "scw2mkHqZucU",
        "outputId": "36c1317d-fcd0-425b-bd11-3ebac943cb90"
      },
      "execution_count": 11,
      "outputs": [
        {
          "output_type": "stream",
          "name": "stdout",
          "text": [
            "Introduce un numero entero: 2\n",
            "La suma de todos los numeros enteros desde 1 hasta 2 es 3.0\n"
          ]
        }
      ]
    },
    {
      "cell_type": "markdown",
      "source": [
        "Ejercicio 7\n",
        "Escribir un programa que pida al usuario su peso (en kg) y estatura (en metros), calcule el índice de masa corporal y lo almacene en una variable, y muestre por pantalla la frase \"Tu índice de masa corporal es \" donde es el índice de masa corporal calculado redondeado con dos decimales."
      ],
      "metadata": {
        "id": "WAGR4bcZbOxx"
      }
    },
    {
      "cell_type": "code",
      "source": [
        "peso= input(\"Introduce tu peso en Kg \")\n",
        "altura= input(\"Introduce tu altura en mt \")\n",
        "imc= round(float(peso)/float(altura)**2,2)\n",
        "print(\"Tu indice de masa corporal es: \", imc)"
      ],
      "metadata": {
        "colab": {
          "base_uri": "https://localhost:8080/"
        },
        "id": "QWvTY82rbRpb",
        "outputId": "1b050cc4-0fc0-4537-df01-124251a81416"
      },
      "execution_count": 14,
      "outputs": [
        {
          "output_type": "stream",
          "name": "stdout",
          "text": [
            "Introduce tu peso en Kg 65\n",
            "Introduce tu altura en mt 1.70\n",
            "Tu indice de masa corporal es:  22.49\n"
          ]
        }
      ]
    }
  ]
}